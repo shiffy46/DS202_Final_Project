{
 "cells": [
  {
   "cell_type": "code",
   "execution_count": 3,
   "metadata": {},
   "outputs": [],
   "source": [
    "import pandas as pd\n",
    "import requests as rq"
   ]
  },
  {
   "cell_type": "code",
   "execution_count": 76,
   "metadata": {},
   "outputs": [
    {
     "data": {
      "text/html": [
       "<div>\n",
       "<style scoped>\n",
       "    .dataframe tbody tr th:only-of-type {\n",
       "        vertical-align: middle;\n",
       "    }\n",
       "\n",
       "    .dataframe tbody tr th {\n",
       "        vertical-align: top;\n",
       "    }\n",
       "\n",
       "    .dataframe thead th {\n",
       "        text-align: right;\n",
       "    }\n",
       "</style>\n",
       "<table border=\"1\" class=\"dataframe\">\n",
       "  <thead>\n",
       "    <tr style=\"text-align: right;\">\n",
       "      <th></th>\n",
       "      <th>1996</th>\n",
       "      <th>1997</th>\n",
       "      <th>1998</th>\n",
       "      <th>1999</th>\n",
       "      <th>2000</th>\n",
       "      <th>2001</th>\n",
       "      <th>2002</th>\n",
       "      <th>2003</th>\n",
       "      <th>2004</th>\n",
       "      <th>2005</th>\n",
       "      <th>...</th>\n",
       "      <th>2013</th>\n",
       "      <th>2014</th>\n",
       "      <th>2015</th>\n",
       "      <th>2016</th>\n",
       "      <th>id</th>\n",
       "      <th>latest</th>\n",
       "      <th>location</th>\n",
       "      <th>ope6_id</th>\n",
       "      <th>ope8_id</th>\n",
       "      <th>school</th>\n",
       "    </tr>\n",
       "  </thead>\n",
       "  <tbody>\n",
       "    <tr>\n",
       "      <th>0</th>\n",
       "      <td>{'completion': {'completion_rate_lt_four_year_...</td>\n",
       "      <td>{'completion': {'completion_rate_lt_four_year_...</td>\n",
       "      <td>{'completion': {'completion_rate_lt_four_year_...</td>\n",
       "      <td>{'completion': {'completion_rate_lt_four_year_...</td>\n",
       "      <td>{'completion': {'completion_rate_lt_four_year_...</td>\n",
       "      <td>{'completion': {'completion_rate_lt_four_year_...</td>\n",
       "      <td>{'completion': {'completion_rate_lt_four_year_...</td>\n",
       "      <td>{'completion': {'completion_rate_lt_four_year_...</td>\n",
       "      <td>{'completion': {'completion_rate_lt_four_year_...</td>\n",
       "      <td>{'completion': {'completion_rate_lt_four_year_...</td>\n",
       "      <td>...</td>\n",
       "      <td>{'completion': {'completion_rate_lt_four_year_...</td>\n",
       "      <td>{'completion': {'completion_rate_lt_four_year_...</td>\n",
       "      <td>{'completion': {'completion_rate_lt_four_year_...</td>\n",
       "      <td>{'completion': {'completion_rate_lt_four_year_...</td>\n",
       "      <td>153603</td>\n",
       "      <td>{'completion': {'completion_rate_lt_four_year_...</td>\n",
       "      <td>{'lon': -93.648504, 'lat': 42.026212}</td>\n",
       "      <td>1869</td>\n",
       "      <td>186900</td>\n",
       "      <td>{'degrees_awarded': {'predominant': 3, 'highes...</td>\n",
       "    </tr>\n",
       "  </tbody>\n",
       "</table>\n",
       "<p>1 rows × 27 columns</p>\n",
       "</div>"
      ],
      "text/plain": [
       "                                                1996  \\\n",
       "0  {'completion': {'completion_rate_lt_four_year_...   \n",
       "\n",
       "                                                1997  \\\n",
       "0  {'completion': {'completion_rate_lt_four_year_...   \n",
       "\n",
       "                                                1998  \\\n",
       "0  {'completion': {'completion_rate_lt_four_year_...   \n",
       "\n",
       "                                                1999  \\\n",
       "0  {'completion': {'completion_rate_lt_four_year_...   \n",
       "\n",
       "                                                2000  \\\n",
       "0  {'completion': {'completion_rate_lt_four_year_...   \n",
       "\n",
       "                                                2001  \\\n",
       "0  {'completion': {'completion_rate_lt_four_year_...   \n",
       "\n",
       "                                                2002  \\\n",
       "0  {'completion': {'completion_rate_lt_four_year_...   \n",
       "\n",
       "                                                2003  \\\n",
       "0  {'completion': {'completion_rate_lt_four_year_...   \n",
       "\n",
       "                                                2004  \\\n",
       "0  {'completion': {'completion_rate_lt_four_year_...   \n",
       "\n",
       "                                                2005  \\\n",
       "0  {'completion': {'completion_rate_lt_four_year_...   \n",
       "\n",
       "                         ...                          \\\n",
       "0                        ...                           \n",
       "\n",
       "                                                2013  \\\n",
       "0  {'completion': {'completion_rate_lt_four_year_...   \n",
       "\n",
       "                                                2014  \\\n",
       "0  {'completion': {'completion_rate_lt_four_year_...   \n",
       "\n",
       "                                                2015  \\\n",
       "0  {'completion': {'completion_rate_lt_four_year_...   \n",
       "\n",
       "                                                2016      id  \\\n",
       "0  {'completion': {'completion_rate_lt_four_year_...  153603   \n",
       "\n",
       "                                              latest  \\\n",
       "0  {'completion': {'completion_rate_lt_four_year_...   \n",
       "\n",
       "                                location ope6_id ope8_id  \\\n",
       "0  {'lon': -93.648504, 'lat': 42.026212}    1869  186900   \n",
       "\n",
       "                                              school  \n",
       "0  {'degrees_awarded': {'predominant': 3, 'highes...  \n",
       "\n",
       "[1 rows x 27 columns]"
      ]
     },
     "execution_count": 76,
     "metadata": {},
     "output_type": "execute_result"
    }
   ],
   "source": [
    "#Grab the data from the server, must use my API Key\n",
    "r = rq.get('https://api.data.gov/ed/collegescorecard/v1/schools.json?api_key=KYthZktaAwB5CMGp9Keyl3raXpb6CS43CaMhbLkr&school.name=Iowa%20State%20University')\n",
    "data = r.json()\n",
    "df = pd.DataFrame.from_dict(data['results'])\n",
    "df"
   ]
  },
  {
   "cell_type": "code",
   "execution_count": 78,
   "metadata": {},
   "outputs": [],
   "source": [
    "#segment the data into subsets\n",
    "segmentList = [\n",
    "data['results'][0]['2012']['completion'],\n",
    "data['results'][0]['2012']['earnings'],\n",
    "data['results'][0]['2012']['student'],\n",
    "data['results'][0]['2012']['admissions'],\n",
    "data['results'][0]['2012']['aid'],\n",
    "data['results'][0]['2012']['repayment'],\n",
    "]"
   ]
  },
  {
   "cell_type": "code",
   "execution_count": 79,
   "metadata": {},
   "outputs": [],
   "source": [
    "completion2012 = segmentList[0]\n",
    "earnings2012 = segmentList[1]\n",
    "students2012 = segmentList[2]\n",
    "admissions2012 = segmentList[3]\n",
    "aid2012 = segmentList[4]\n",
    "repayment2012 = segmentList[5]"
   ]
  },
  {
   "cell_type": "code",
   "execution_count": null,
   "metadata": {},
   "outputs": [],
   "source": []
  },
  {
   "cell_type": "code",
   "execution_count": null,
   "metadata": {},
   "outputs": [],
   "source": []
  },
  {
   "cell_type": "code",
   "execution_count": null,
   "metadata": {},
   "outputs": [],
   "source": []
  },
  {
   "cell_type": "code",
   "execution_count": null,
   "metadata": {},
   "outputs": [],
   "source": []
  },
  {
   "cell_type": "code",
   "execution_count": null,
   "metadata": {},
   "outputs": [],
   "source": []
  },
  {
   "cell_type": "code",
   "execution_count": null,
   "metadata": {},
   "outputs": [],
   "source": []
  }
 ],
 "metadata": {
  "kernelspec": {
   "display_name": "Python 3",
   "language": "python",
   "name": "python3"
  },
  "language_info": {
   "codemirror_mode": {
    "name": "ipython",
    "version": 3
   },
   "file_extension": ".py",
   "mimetype": "text/x-python",
   "name": "python",
   "nbconvert_exporter": "python",
   "pygments_lexer": "ipython3",
   "version": "3.7.1"
  }
 },
 "nbformat": 4,
 "nbformat_minor": 2
}
